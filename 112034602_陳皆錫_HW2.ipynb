{
  "cells": [
    {
      "cell_type": "markdown",
      "metadata": {
        "id": "view-in-github",
        "colab_type": "text"
      },
      "source": [
        "<a href=\"https://colab.research.google.com/github/HSS107048212/Burnout-Analysis-and-Prediction/blob/main/112034602_%E9%99%B3%E7%9A%86%E9%8C%AB_HW2.ipynb\" target=\"_parent\"><img src=\"https://colab.research.google.com/assets/colab-badge.svg\" alt=\"Open In Colab\"/></a>"
      ]
    },
    {
      "cell_type": "markdown",
      "source": [
        "參考資料:\n",
        "\n",
        "https://www.kaggle.com/code/willribeiro/burnout-analysis-and-prediction\n",
        "\n",
        "https://www.kaggle.com/code/ushasridevarakonda/employee-burnout-prediction\n",
        "\n",
        "https://www.kaggle.com/code/blurredmachine/employee-burn-rate-analysis-eda-viz-pred\n",
        "\n",
        "\n",
        "\n",
        "\n",
        "\n"
      ],
      "metadata": {
        "id": "JsYLUKfrLpV7"
      },
      "id": "JsYLUKfrLpV7"
    },
    {
      "cell_type": "markdown",
      "id": "3wSi-KSCIpEM",
      "metadata": {
        "id": "3wSi-KSCIpEM"
      },
      "source": [
        "### Import Package"
      ]
    },
    {
      "cell_type": "code",
      "execution_count": 1,
      "id": "5Cz5-77fIpEN",
      "metadata": {
        "colab": {
          "base_uri": "https://localhost:8080/",
          "height": 36
        },
        "id": "5Cz5-77fIpEN",
        "outputId": "a5062491-09d5-4866-ebec-f865d90beef2"
      },
      "outputs": [
        {
          "output_type": "execute_result",
          "data": {
            "text/plain": [
              "'/content'"
            ],
            "application/vnd.google.colaboratory.intrinsic+json": {
              "type": "string"
            }
          },
          "metadata": {},
          "execution_count": 1
        }
      ],
      "source": [
        "import numpy as np\n",
        "import pandas as pd\n",
        "import os\n",
        "from sklearn.model_selection import train_test_split\n",
        "# Category Encoder (categorical variable)\n",
        "from sklearn.preprocessing import LabelEncoder\n",
        "# Min max normalization (numerical variable)\n",
        "from sklearn.preprocessing import MinMaxScaler\n",
        "# Model (can also view the scikit learn to choose the model)\n",
        "from sklearn.linear_model import LinearRegression\n",
        "os.getcwd()"
      ]
    },
    {
      "cell_type": "code",
      "source": [
        "import seaborn as sns\n",
        "import matplotlib.pyplot as plt\n",
        "from scipy import stats\n",
        "import scipy.stats as st"
      ],
      "metadata": {
        "id": "Oq6cxKijjMbZ"
      },
      "id": "Oq6cxKijjMbZ",
      "execution_count": 2,
      "outputs": []
    },
    {
      "cell_type": "markdown",
      "id": "16QNBD14IpEO",
      "metadata": {
        "id": "16QNBD14IpEO"
      },
      "source": [
        "### Read data"
      ]
    },
    {
      "cell_type": "code",
      "execution_count": 30,
      "id": "jVqvLLiVIpEO",
      "metadata": {
        "colab": {
          "base_uri": "https://localhost:8080/",
          "height": 241
        },
        "id": "jVqvLLiVIpEO",
        "outputId": "f58e1a66-3572-4f86-f8ea-0e2e3321ff44"
      },
      "outputs": [
        {
          "output_type": "stream",
          "name": "stdout",
          "text": [
            "viwe the data shape (10108, 9)\n"
          ]
        },
        {
          "output_type": "execute_result",
          "data": {
            "text/plain": [
              "   Employee ID Date of Joining  Gender Company Type WFH Setup Available  \\\n",
              "0            0       2008/9/30  Female      Service                  No   \n",
              "1            1      2008/11/30    Male      Service                 Yes   \n",
              "2            2       2008/3/10  Female      Product                 Yes   \n",
              "3            3       2008/11/3    Male      Service                 Yes   \n",
              "4            4       2008/7/24  Female      Service                  No   \n",
              "\n",
              "   Designation  Resource Allocation  Mental Fatigue Score  Burn Rate  \n",
              "0            2                  3.0                   3.8       0.16  \n",
              "1            1                  2.0                   5.0       0.36  \n",
              "2            2                  NaN                   5.8       0.49  \n",
              "3            1                  1.0                   2.6       0.20  \n",
              "4            3                  7.0                   6.9       0.52  "
            ],
            "text/html": [
              "\n",
              "  <div id=\"df-f2f0833f-6d8a-454c-aecd-3e64f8d670f1\" class=\"colab-df-container\">\n",
              "    <div>\n",
              "<style scoped>\n",
              "    .dataframe tbody tr th:only-of-type {\n",
              "        vertical-align: middle;\n",
              "    }\n",
              "\n",
              "    .dataframe tbody tr th {\n",
              "        vertical-align: top;\n",
              "    }\n",
              "\n",
              "    .dataframe thead th {\n",
              "        text-align: right;\n",
              "    }\n",
              "</style>\n",
              "<table border=\"1\" class=\"dataframe\">\n",
              "  <thead>\n",
              "    <tr style=\"text-align: right;\">\n",
              "      <th></th>\n",
              "      <th>Employee ID</th>\n",
              "      <th>Date of Joining</th>\n",
              "      <th>Gender</th>\n",
              "      <th>Company Type</th>\n",
              "      <th>WFH Setup Available</th>\n",
              "      <th>Designation</th>\n",
              "      <th>Resource Allocation</th>\n",
              "      <th>Mental Fatigue Score</th>\n",
              "      <th>Burn Rate</th>\n",
              "    </tr>\n",
              "  </thead>\n",
              "  <tbody>\n",
              "    <tr>\n",
              "      <th>0</th>\n",
              "      <td>0</td>\n",
              "      <td>2008/9/30</td>\n",
              "      <td>Female</td>\n",
              "      <td>Service</td>\n",
              "      <td>No</td>\n",
              "      <td>2</td>\n",
              "      <td>3.0</td>\n",
              "      <td>3.8</td>\n",
              "      <td>0.16</td>\n",
              "    </tr>\n",
              "    <tr>\n",
              "      <th>1</th>\n",
              "      <td>1</td>\n",
              "      <td>2008/11/30</td>\n",
              "      <td>Male</td>\n",
              "      <td>Service</td>\n",
              "      <td>Yes</td>\n",
              "      <td>1</td>\n",
              "      <td>2.0</td>\n",
              "      <td>5.0</td>\n",
              "      <td>0.36</td>\n",
              "    </tr>\n",
              "    <tr>\n",
              "      <th>2</th>\n",
              "      <td>2</td>\n",
              "      <td>2008/3/10</td>\n",
              "      <td>Female</td>\n",
              "      <td>Product</td>\n",
              "      <td>Yes</td>\n",
              "      <td>2</td>\n",
              "      <td>NaN</td>\n",
              "      <td>5.8</td>\n",
              "      <td>0.49</td>\n",
              "    </tr>\n",
              "    <tr>\n",
              "      <th>3</th>\n",
              "      <td>3</td>\n",
              "      <td>2008/11/3</td>\n",
              "      <td>Male</td>\n",
              "      <td>Service</td>\n",
              "      <td>Yes</td>\n",
              "      <td>1</td>\n",
              "      <td>1.0</td>\n",
              "      <td>2.6</td>\n",
              "      <td>0.20</td>\n",
              "    </tr>\n",
              "    <tr>\n",
              "      <th>4</th>\n",
              "      <td>4</td>\n",
              "      <td>2008/7/24</td>\n",
              "      <td>Female</td>\n",
              "      <td>Service</td>\n",
              "      <td>No</td>\n",
              "      <td>3</td>\n",
              "      <td>7.0</td>\n",
              "      <td>6.9</td>\n",
              "      <td>0.52</td>\n",
              "    </tr>\n",
              "  </tbody>\n",
              "</table>\n",
              "</div>\n",
              "    <div class=\"colab-df-buttons\">\n",
              "\n",
              "  <div class=\"colab-df-container\">\n",
              "    <button class=\"colab-df-convert\" onclick=\"convertToInteractive('df-f2f0833f-6d8a-454c-aecd-3e64f8d670f1')\"\n",
              "            title=\"Convert this dataframe to an interactive table.\"\n",
              "            style=\"display:none;\">\n",
              "\n",
              "  <svg xmlns=\"http://www.w3.org/2000/svg\" height=\"24px\" viewBox=\"0 -960 960 960\">\n",
              "    <path d=\"M120-120v-720h720v720H120Zm60-500h600v-160H180v160Zm220 220h160v-160H400v160Zm0 220h160v-160H400v160ZM180-400h160v-160H180v160Zm440 0h160v-160H620v160ZM180-180h160v-160H180v160Zm440 0h160v-160H620v160Z\"/>\n",
              "  </svg>\n",
              "    </button>\n",
              "\n",
              "  <style>\n",
              "    .colab-df-container {\n",
              "      display:flex;\n",
              "      gap: 12px;\n",
              "    }\n",
              "\n",
              "    .colab-df-convert {\n",
              "      background-color: #E8F0FE;\n",
              "      border: none;\n",
              "      border-radius: 50%;\n",
              "      cursor: pointer;\n",
              "      display: none;\n",
              "      fill: #1967D2;\n",
              "      height: 32px;\n",
              "      padding: 0 0 0 0;\n",
              "      width: 32px;\n",
              "    }\n",
              "\n",
              "    .colab-df-convert:hover {\n",
              "      background-color: #E2EBFA;\n",
              "      box-shadow: 0px 1px 2px rgba(60, 64, 67, 0.3), 0px 1px 3px 1px rgba(60, 64, 67, 0.15);\n",
              "      fill: #174EA6;\n",
              "    }\n",
              "\n",
              "    .colab-df-buttons div {\n",
              "      margin-bottom: 4px;\n",
              "    }\n",
              "\n",
              "    [theme=dark] .colab-df-convert {\n",
              "      background-color: #3B4455;\n",
              "      fill: #D2E3FC;\n",
              "    }\n",
              "\n",
              "    [theme=dark] .colab-df-convert:hover {\n",
              "      background-color: #434B5C;\n",
              "      box-shadow: 0px 1px 3px 1px rgba(0, 0, 0, 0.15);\n",
              "      filter: drop-shadow(0px 1px 2px rgba(0, 0, 0, 0.3));\n",
              "      fill: #FFFFFF;\n",
              "    }\n",
              "  </style>\n",
              "\n",
              "    <script>\n",
              "      const buttonEl =\n",
              "        document.querySelector('#df-f2f0833f-6d8a-454c-aecd-3e64f8d670f1 button.colab-df-convert');\n",
              "      buttonEl.style.display =\n",
              "        google.colab.kernel.accessAllowed ? 'block' : 'none';\n",
              "\n",
              "      async function convertToInteractive(key) {\n",
              "        const element = document.querySelector('#df-f2f0833f-6d8a-454c-aecd-3e64f8d670f1');\n",
              "        const dataTable =\n",
              "          await google.colab.kernel.invokeFunction('convertToInteractive',\n",
              "                                                    [key], {});\n",
              "        if (!dataTable) return;\n",
              "\n",
              "        const docLinkHtml = 'Like what you see? Visit the ' +\n",
              "          '<a target=\"_blank\" href=https://colab.research.google.com/notebooks/data_table.ipynb>data table notebook</a>'\n",
              "          + ' to learn more about interactive tables.';\n",
              "        element.innerHTML = '';\n",
              "        dataTable['output_type'] = 'display_data';\n",
              "        await google.colab.output.renderOutput(dataTable, element);\n",
              "        const docLink = document.createElement('div');\n",
              "        docLink.innerHTML = docLinkHtml;\n",
              "        element.appendChild(docLink);\n",
              "      }\n",
              "    </script>\n",
              "  </div>\n",
              "\n",
              "\n",
              "<div id=\"df-028792bd-500c-4de0-9522-9fe0ceb05be0\">\n",
              "  <button class=\"colab-df-quickchart\" onclick=\"quickchart('df-028792bd-500c-4de0-9522-9fe0ceb05be0')\"\n",
              "            title=\"Suggest charts.\"\n",
              "            style=\"display:none;\">\n",
              "\n",
              "<svg xmlns=\"http://www.w3.org/2000/svg\" height=\"24px\"viewBox=\"0 0 24 24\"\n",
              "     width=\"24px\">\n",
              "    <g>\n",
              "        <path d=\"M19 3H5c-1.1 0-2 .9-2 2v14c0 1.1.9 2 2 2h14c1.1 0 2-.9 2-2V5c0-1.1-.9-2-2-2zM9 17H7v-7h2v7zm4 0h-2V7h2v10zm4 0h-2v-4h2v4z\"/>\n",
              "    </g>\n",
              "</svg>\n",
              "  </button>\n",
              "\n",
              "<style>\n",
              "  .colab-df-quickchart {\n",
              "      --bg-color: #E8F0FE;\n",
              "      --fill-color: #1967D2;\n",
              "      --hover-bg-color: #E2EBFA;\n",
              "      --hover-fill-color: #174EA6;\n",
              "      --disabled-fill-color: #AAA;\n",
              "      --disabled-bg-color: #DDD;\n",
              "  }\n",
              "\n",
              "  [theme=dark] .colab-df-quickchart {\n",
              "      --bg-color: #3B4455;\n",
              "      --fill-color: #D2E3FC;\n",
              "      --hover-bg-color: #434B5C;\n",
              "      --hover-fill-color: #FFFFFF;\n",
              "      --disabled-bg-color: #3B4455;\n",
              "      --disabled-fill-color: #666;\n",
              "  }\n",
              "\n",
              "  .colab-df-quickchart {\n",
              "    background-color: var(--bg-color);\n",
              "    border: none;\n",
              "    border-radius: 50%;\n",
              "    cursor: pointer;\n",
              "    display: none;\n",
              "    fill: var(--fill-color);\n",
              "    height: 32px;\n",
              "    padding: 0;\n",
              "    width: 32px;\n",
              "  }\n",
              "\n",
              "  .colab-df-quickchart:hover {\n",
              "    background-color: var(--hover-bg-color);\n",
              "    box-shadow: 0 1px 2px rgba(60, 64, 67, 0.3), 0 1px 3px 1px rgba(60, 64, 67, 0.15);\n",
              "    fill: var(--button-hover-fill-color);\n",
              "  }\n",
              "\n",
              "  .colab-df-quickchart-complete:disabled,\n",
              "  .colab-df-quickchart-complete:disabled:hover {\n",
              "    background-color: var(--disabled-bg-color);\n",
              "    fill: var(--disabled-fill-color);\n",
              "    box-shadow: none;\n",
              "  }\n",
              "\n",
              "  .colab-df-spinner {\n",
              "    border: 2px solid var(--fill-color);\n",
              "    border-color: transparent;\n",
              "    border-bottom-color: var(--fill-color);\n",
              "    animation:\n",
              "      spin 1s steps(1) infinite;\n",
              "  }\n",
              "\n",
              "  @keyframes spin {\n",
              "    0% {\n",
              "      border-color: transparent;\n",
              "      border-bottom-color: var(--fill-color);\n",
              "      border-left-color: var(--fill-color);\n",
              "    }\n",
              "    20% {\n",
              "      border-color: transparent;\n",
              "      border-left-color: var(--fill-color);\n",
              "      border-top-color: var(--fill-color);\n",
              "    }\n",
              "    30% {\n",
              "      border-color: transparent;\n",
              "      border-left-color: var(--fill-color);\n",
              "      border-top-color: var(--fill-color);\n",
              "      border-right-color: var(--fill-color);\n",
              "    }\n",
              "    40% {\n",
              "      border-color: transparent;\n",
              "      border-right-color: var(--fill-color);\n",
              "      border-top-color: var(--fill-color);\n",
              "    }\n",
              "    60% {\n",
              "      border-color: transparent;\n",
              "      border-right-color: var(--fill-color);\n",
              "    }\n",
              "    80% {\n",
              "      border-color: transparent;\n",
              "      border-right-color: var(--fill-color);\n",
              "      border-bottom-color: var(--fill-color);\n",
              "    }\n",
              "    90% {\n",
              "      border-color: transparent;\n",
              "      border-bottom-color: var(--fill-color);\n",
              "    }\n",
              "  }\n",
              "</style>\n",
              "\n",
              "  <script>\n",
              "    async function quickchart(key) {\n",
              "      const quickchartButtonEl =\n",
              "        document.querySelector('#' + key + ' button');\n",
              "      quickchartButtonEl.disabled = true;  // To prevent multiple clicks.\n",
              "      quickchartButtonEl.classList.add('colab-df-spinner');\n",
              "      try {\n",
              "        const charts = await google.colab.kernel.invokeFunction(\n",
              "            'suggestCharts', [key], {});\n",
              "      } catch (error) {\n",
              "        console.error('Error during call to suggestCharts:', error);\n",
              "      }\n",
              "      quickchartButtonEl.classList.remove('colab-df-spinner');\n",
              "      quickchartButtonEl.classList.add('colab-df-quickchart-complete');\n",
              "    }\n",
              "    (() => {\n",
              "      let quickchartButtonEl =\n",
              "        document.querySelector('#df-028792bd-500c-4de0-9522-9fe0ceb05be0 button');\n",
              "      quickchartButtonEl.style.display =\n",
              "        google.colab.kernel.accessAllowed ? 'block' : 'none';\n",
              "    })();\n",
              "  </script>\n",
              "</div>\n",
              "    </div>\n",
              "  </div>\n"
            ]
          },
          "metadata": {},
          "execution_count": 30
        }
      ],
      "source": [
        "df = pd.read_csv(r'./train.csv')\n",
        "print('viwe the data shape', df.shape)\n",
        "df.head()"
      ]
    },
    {
      "cell_type": "markdown",
      "id": "vaA_AJqSPfo0",
      "metadata": {
        "id": "vaA_AJqSPfo0"
      },
      "source": [
        "### Data Preprocessing"
      ]
    },
    {
      "cell_type": "code",
      "source": [
        "import pandas as pd\n",
        "from sklearn.model_selection import train_test_split\n",
        "from sklearn.impute import SimpleImputer\n",
        "from sklearn.tree import DecisionTreeRegressor\n",
        "from sklearn.ensemble import RandomForestRegressor\n",
        "from sklearn.svm import SVR\n",
        "from sklearn.metrics import mean_squared_error, r2_score\n",
        "\n",
        "# 1. 数据预处理\n",
        "# 用均值替代缺失值\n",
        "imputer = SimpleImputer(strategy='mean')\n",
        "df['Mental Fatigue Score'].fillna(df['Mental Fatigue Score'].mean(), inplace=True)\n",
        "df['Designation'].fillna(df['Designation'].mean(), inplace=True)\n",
        "df['Resource Allocation'].fillna(df['Resource Allocation'].mean(), inplace=True)\n",
        "df['Burn Rate'].fillna(df['Burn Rate'].mean(), inplace=True)\n",
        "df.drop([\"Employee ID\", \"Date of Joining\"], axis=1, inplace=True)\n",
        "\n",
        "\n",
        "# 类别特征编码，例如使用独热编码\n",
        "df = pd.get_dummies(df, columns=['Gender', 'Company Type', 'WFH Setup Available'])\n",
        "\n",
        "# 2. 数据分割\n",
        "X = df.drop(\"Burn Rate\", axis=1)  # 特征\n",
        "y = df[\"Burn Rate\"]  # 目标\n",
        "X_train, X_test, y_train, y_test = train_test_split(X, y, test_size=0.9, random_state=42)\n",
        "\n",
        "# 3. 建立模型\n",
        "# 决策树回归\n",
        "decision_tree_model = DecisionTreeRegressor()\n",
        "# 随机森林回归\n",
        "random_forest_model = RandomForestRegressor()\n",
        "# 支持向量回归\n",
        "svr_model = SVR()\n",
        "\n",
        "# 4. 模型训练\n",
        "decision_tree_model.fit(X_train, y_train)\n",
        "random_forest_model.fit(X_train, y_train)\n",
        "svr_model.fit(X_train, y_train)\n",
        "\n",
        "# 5. 模型评估\n",
        "def evaluate_model(model, X_test, y_test):\n",
        "    y_pred = model.predict(X_test)\n",
        "    mse = mean_squared_error(y_test, y_pred)\n",
        "    r2 = r2_score(y_test, y_pred)\n",
        "    print(f\"均方误差 (MSE): {mse}\")\n",
        "    print(f\"R平方 (R^2): {r2}\")\n",
        "\n",
        "print(\"Decision Tree Model:\")\n",
        "evaluate_model(decision_tree_model, X_test, y_test)\n",
        "\n",
        "print(\"\\nRandom Forest Model:\")\n",
        "evaluate_model(random_forest_model, X_test, y_test)\n",
        "\n",
        "print(\"\\nSVR Model:\")\n",
        "evaluate_model(svr_model, X_test, y_test)\n"
      ],
      "metadata": {
        "colab": {
          "base_uri": "https://localhost:8080/"
        },
        "id": "BQ-ZjiYLW755",
        "outputId": "9016d7c4-9bf6-47a8-fe79-58fa8c82f911"
      },
      "id": "BQ-ZjiYLW755",
      "execution_count": 31,
      "outputs": [
        {
          "output_type": "stream",
          "name": "stdout",
          "text": [
            "Decision Tree Model:\n",
            "均方误差 (MSE): 0.010813803329706557\n",
            "R平方 (R^2): 0.7131595884859578\n",
            "\n",
            "Random Forest Model:\n",
            "均方误差 (MSE): 0.006870960164223273\n",
            "R平方 (R^2): 0.8177450633313972\n",
            "\n",
            "SVR Model:\n",
            "均方误差 (MSE): 0.006168969037588705\n",
            "R平方 (R^2): 0.8363656556894912\n"
          ]
        }
      ]
    },
    {
      "cell_type": "markdown",
      "id": "WyJKb2JdIpEQ",
      "metadata": {
        "id": "WyJKb2JdIpEQ"
      },
      "source": [
        "### Training (model construction)"
      ]
    },
    {
      "cell_type": "markdown",
      "id": "myOBllB_IpEQ",
      "metadata": {
        "id": "myOBllB_IpEQ"
      },
      "source": [
        "### Prediction\n",
        "1. read data\n",
        "2. model prediction\n",
        "3. to_csv"
      ]
    },
    {
      "cell_type": "code",
      "execution_count": null,
      "id": "HyWyzS-oIpEQ",
      "metadata": {
        "id": "HyWyzS-oIpEQ"
      },
      "outputs": [],
      "source": [
        "df_test = pd.read_csv(r'./test.csv')\n",
        "# df_test = df_test.dropna()\n",
        "a = list(df_test)\n",
        "for i in range(len(a)):\n",
        "    df_test[a[i]] = df_test[a[i]].fillna(0)\n",
        "df_test = df_test.drop(['Employee ID','Date of Joining'],axis=1)\n",
        "print(df_test.shape)\n",
        "df_test.head()"
      ]
    },
    {
      "cell_type": "markdown",
      "id": "kB2tPfmaIpER",
      "metadata": {
        "id": "kB2tPfmaIpER"
      },
      "source": [
        "### Same preprocessing step as training procedure\n",
        "- can write it like a function or pipeline"
      ]
    },
    {
      "cell_type": "code",
      "execution_count": null,
      "id": "gb3Fwn1_LRiz",
      "metadata": {
        "id": "gb3Fwn1_LRiz"
      },
      "outputs": [],
      "source": [
        "df_test['Mental Fatigue Score'].fillna(df_test['Mental Fatigue Score'].mean(), inplace=True)\n",
        "df_test['Designation'].fillna(df_test['Designation'].mean(), inplace=True)\n",
        "df_test['Resource Allocation'].fillna(df_test['Resource Allocation'].mean(), inplace=True)\n",
        "\n",
        "# 类别特征编码，例如使用独热编码\n",
        "#df_test = pd.get_dummies(df_test, columns=['Gender', 'Company Type', 'WFH Setup Available'])\n",
        "\n",
        "X_test = df_test[df_test.columns]"
      ]
    },
    {
      "cell_type": "code",
      "execution_count": null,
      "id": "HJF5Z3zHIpER",
      "metadata": {
        "id": "HJF5Z3zHIpER"
      },
      "outputs": [],
      "source": [
        "y_pred_decision_tree_model = decision_tree_model.predict(X_test)\n",
        "y_pred_random_forest_model = random_forest_model.predict(X_test)\n",
        "y_pred_svr_model = svr_model.predict(X_test)"
      ]
    },
    {
      "cell_type": "code",
      "source": [
        "# 将小于1的数值转换为0\n",
        "y_pred_decision_tree_model[y_pred_decision_tree_model < 0] = 0\n",
        "# 将小于1的数值转换为0\n",
        "y_pred_random_forest_model[y_pred_random_forest_model < 0] = 0\n",
        "# 将小于1的数值转换为0\n",
        "y_pred_svr_model[y_pred_svr_model < 0] = 0"
      ],
      "metadata": {
        "id": "m46gSQloStw0"
      },
      "id": "m46gSQloStw0",
      "execution_count": null,
      "outputs": []
    },
    {
      "cell_type": "markdown",
      "id": "NrJx8svNIpER",
      "metadata": {
        "id": "NrJx8svNIpER"
      },
      "source": [
        "### Output .csv for submission"
      ]
    },
    {
      "cell_type": "code",
      "execution_count": null,
      "id": "sapxBlbhIpER",
      "metadata": {
        "id": "sapxBlbhIpER"
      },
      "outputs": [],
      "source": [
        "df_ans = pd.DataFrame(y_pred_decision_tree_model.astype(float), columns=['Burn Rate'])\n",
        "df_ans.to_csv('mySubmission.csv', index_label='Employee ID')\n",
        "df_ans = pd.DataFrame(y_pred_random_forest_model.astype(float), columns=['Burn Rate'])\n",
        "df_ans.to_csv('mySubmission1.csv', index_label='Employee ID')\n",
        "df_ans = pd.DataFrame(y_pred_svr_model.astype(float), columns=['Burn Rate'])\n",
        "df_ans.to_csv('mySubmission2.csv', index_label='Employee ID')"
      ]
    },
    {
      "cell_type": "markdown",
      "id": "zzbi3vvOIpER",
      "metadata": {
        "id": "zzbi3vvOIpER"
      },
      "source": [
        "### Some Tips\n",
        "1. try different scaling approach (numerical variable)\n",
        "2. encoding method\n",
        "3. different model\n",
        "4. feature engineering (some different transformation)\n",
        "5. do some data exploration to see other pattern\n",
        "6. hyperparameter\n",
        "\n",
        "### Other Complementary\n",
        "- pipeline: https://scikit-learn.org/stable/modules/compose.html#pipeline\n",
        "- also can try some basic deep learning model (ANN)"
      ]
    },
    {
      "cell_type": "code",
      "execution_count": null,
      "id": "xINoX0FFIpER",
      "metadata": {
        "id": "xINoX0FFIpER"
      },
      "outputs": [],
      "source": []
    },
    {
      "cell_type": "code",
      "execution_count": null,
      "id": "mBDdLRTWIpER",
      "metadata": {
        "id": "mBDdLRTWIpER"
      },
      "outputs": [],
      "source": []
    }
  ],
  "metadata": {
    "colab": {
      "provenance": [],
      "include_colab_link": true
    },
    "kernelspec": {
      "display_name": "Python 3.9.12 ('ML')",
      "language": "python",
      "name": "python3"
    },
    "language_info": {
      "codemirror_mode": {
        "name": "ipython",
        "version": 3
      },
      "file_extension": ".py",
      "mimetype": "text/x-python",
      "name": "python",
      "nbconvert_exporter": "python",
      "pygments_lexer": "ipython3",
      "version": "3.9.13"
    },
    "vscode": {
      "interpreter": {
        "hash": "f383826fdc8333ec187623b360f2bf06d0a39c6f212e1c3c3029be4dd2cc4a75"
      }
    }
  },
  "nbformat": 4,
  "nbformat_minor": 5
}