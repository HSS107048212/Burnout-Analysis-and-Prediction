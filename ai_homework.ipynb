{
  "nbformat": 4,
  "nbformat_minor": 0,
  "metadata": {
    "colab": {
      "provenance": [],
      "gpuType": "T4",
      "include_colab_link": true
    },
    "kernelspec": {
      "name": "python3",
      "display_name": "Python 3"
    },
    "language_info": {
      "name": "python"
    },
    "accelerator": "GPU"
  },
  "cells": [
    {
      "cell_type": "markdown",
      "metadata": {
        "id": "view-in-github",
        "colab_type": "text"
      },
      "source": [
        "<a href=\"https://colab.research.google.com/github/HSS107048212/Burnout-Analysis-and-Prediction/blob/main/ai_homework.ipynb\" target=\"_parent\"><img src=\"https://colab.research.google.com/assets/colab-badge.svg\" alt=\"Open In Colab\"/></a>"
      ]
    },
    {
      "cell_type": "code",
      "source": [
        "import pandas as pd\n",
        "\n",
        "# 讀取CSV檔案\n",
        "data = pd.read_csv(\"train.csv\")"
      ],
      "metadata": {
        "id": "od-OcdpnEPi5"
      },
      "execution_count": 7,
      "outputs": []
    },
    {
      "cell_type": "code",
      "source": [
        "from sklearn.model_selection import train_test_split\n",
        "from sklearn.preprocessing import StandardScaler, LabelEncoder\n",
        "\n",
        "# 處理缺失值: 使用中位數填充\n",
        "data.fillna(data.mean(), inplace=True)\n",
        "\n",
        "# 將入職日期轉換為距今的天數\n",
        "data['Days Since Joining'] = (pd.Timestamp.now() - pd.to_datetime(data['Date of Joining'])).dt.days\n",
        "data.drop('Date of Joining', axis=1, inplace=True)\n",
        "\n",
        "# 使用LabelEncoder對類別變數進行編碼\n",
        "label_encoders = {}\n",
        "categorical_columns = ['Gender', 'Company Type', 'WFH Setup Available']\n",
        "\n",
        "for col in categorical_columns:\n",
        "    le = LabelEncoder()\n",
        "    data[col] = le.fit_transform(data[col])\n",
        "    label_encoders[col] = le\n",
        "\n",
        "# 切分數據為訓練集和驗證集\n",
        "X = data.drop(['Employee ID', 'Burn Rate'], axis=1)\n",
        "y = data['Burn Rate']\n",
        "X_train, X_valid, y_train, y_valid = train_test_split(X, y, test_size=0.2, random_state=42)\n",
        "\n",
        "# 標準化特徵\n",
        "scaler = StandardScaler()\n",
        "X_train = scaler.fit_transform(X_train)\n",
        "X_valid = scaler.transform(X_valid)\n",
        "\n",
        "X_train[:5], y_train.head()"
      ],
      "metadata": {
        "colab": {
          "base_uri": "https://localhost:8080/"
        },
        "id": "Nxc9HvP0Dq7v",
        "outputId": "2fa59fbf-0ca7-4df1-ceed-f3893cfb5591"
      },
      "execution_count": 8,
      "outputs": [
        {
          "output_type": "stream",
          "name": "stderr",
          "text": [
            "<ipython-input-8-1a68a18ec2cd>:5: FutureWarning: The default value of numeric_only in DataFrame.mean is deprecated. In a future version, it will default to False. In addition, specifying 'numeric_only=None' is deprecated. Select only valid columns or specify the value of numeric_only to silence this warning.\n",
            "  data.fillna(data.mean(), inplace=True)\n"
          ]
        },
        {
          "output_type": "execute_result",
          "data": {
            "text/plain": [
              "(array([[ 1.05153657,  0.72701061, -1.0763685 , -0.16394616,  0.25055884,\n",
              "          0.52994181, -0.40931329],\n",
              "        [ 1.05153657,  0.72701061,  0.92904986,  0.71631191,  0.25055884,\n",
              "         -0.00484002, -1.47837076],\n",
              "        [ 1.05153657,  0.72701061, -1.0763685 ,  0.71631191,  0.75708014,\n",
              "          0.69556126,  1.21792461],\n",
              "        [-0.95098927,  0.72701061, -1.0763685 , -0.16394616, -0.0040913 ,\n",
              "         -1.67831742, -0.35254918],\n",
              "        [-0.95098927,  0.72701061, -1.0763685 , -0.16394616,  0.25055884,\n",
              "          0.14349645, -0.87288688]]),\n",
              " 8387    0.510000\n",
              " 1817    0.450000\n",
              " 4386    0.620000\n",
              " 9317    0.452351\n",
              " 4575    0.450000\n",
              " Name: Burn Rate, dtype: float64)"
            ]
          },
          "metadata": {},
          "execution_count": 8
        }
      ]
    },
    {
      "cell_type": "code",
      "source": [
        "import tensorflow as tf\n",
        "from tensorflow import keras\n",
        "from tensorflow.keras import layers\n",
        "\n",
        "# 定義模型結構\n",
        "model = keras.Sequential([\n",
        "    layers.InputLayer(input_shape=(X_train.shape[1],)),\n",
        "    layers.Dense(128, activation='relu'),\n",
        "    layers.Dropout(0.3),\n",
        "    layers.Dense(64, activation='relu'),\n",
        "    layers.Dropout(0.3),\n",
        "    layers.Dense(32, activation='relu'),\n",
        "    layers.Dense(1, activation='linear')  # 使用linear激活函數，因為這是一個回歸問題\n",
        "])\n",
        "\n",
        "# 編譯模型\n",
        "model.compile(optimizer='adam', loss='mean_squared_error', metrics=['mae'])\n",
        "\n",
        "# 訓練模型\n",
        "history = model.fit(X_train, y_train, epochs=100, batch_size=32, validation_data=(X_valid, y_valid), verbose=1)\n"
      ],
      "metadata": {
        "colab": {
          "base_uri": "https://localhost:8080/"
        },
        "id": "XGfRmyspEq8j",
        "outputId": "d923d03a-d073-4611-f930-c101ad676298"
      },
      "execution_count": 9,
      "outputs": [
        {
          "output_type": "stream",
          "name": "stdout",
          "text": [
            "Epoch 1/100\n",
            "253/253 [==============================] - 6s 9ms/step - loss: 0.0298 - mae: 0.1261 - val_loss: 0.0121 - val_mae: 0.0871\n",
            "Epoch 2/100\n",
            "253/253 [==============================] - 1s 4ms/step - loss: 0.0118 - mae: 0.0833 - val_loss: 0.0109 - val_mae: 0.0812\n",
            "Epoch 3/100\n",
            "253/253 [==============================] - 1s 4ms/step - loss: 0.0097 - mae: 0.0746 - val_loss: 0.0096 - val_mae: 0.0753\n",
            "Epoch 4/100\n",
            "253/253 [==============================] - 1s 4ms/step - loss: 0.0086 - mae: 0.0700 - val_loss: 0.0096 - val_mae: 0.0748\n",
            "Epoch 5/100\n",
            "253/253 [==============================] - 1s 4ms/step - loss: 0.0082 - mae: 0.0679 - val_loss: 0.0100 - val_mae: 0.0772\n",
            "Epoch 6/100\n",
            "253/253 [==============================] - 1s 4ms/step - loss: 0.0077 - mae: 0.0656 - val_loss: 0.0088 - val_mae: 0.0729\n",
            "Epoch 7/100\n",
            "253/253 [==============================] - 1s 5ms/step - loss: 0.0076 - mae: 0.0648 - val_loss: 0.0078 - val_mae: 0.0672\n",
            "Epoch 8/100\n",
            "253/253 [==============================] - 2s 6ms/step - loss: 0.0074 - mae: 0.0640 - val_loss: 0.0078 - val_mae: 0.0676\n",
            "Epoch 9/100\n",
            "253/253 [==============================] - 1s 4ms/step - loss: 0.0074 - mae: 0.0642 - val_loss: 0.0073 - val_mae: 0.0657\n",
            "Epoch 10/100\n",
            "253/253 [==============================] - 1s 4ms/step - loss: 0.0073 - mae: 0.0633 - val_loss: 0.0074 - val_mae: 0.0663\n",
            "Epoch 11/100\n",
            "253/253 [==============================] - 1s 4ms/step - loss: 0.0069 - mae: 0.0620 - val_loss: 0.0074 - val_mae: 0.0658\n",
            "Epoch 12/100\n",
            "253/253 [==============================] - 1s 4ms/step - loss: 0.0068 - mae: 0.0616 - val_loss: 0.0076 - val_mae: 0.0671\n",
            "Epoch 13/100\n",
            "253/253 [==============================] - 1s 4ms/step - loss: 0.0069 - mae: 0.0616 - val_loss: 0.0071 - val_mae: 0.0647\n",
            "Epoch 14/100\n",
            "253/253 [==============================] - 1s 4ms/step - loss: 0.0067 - mae: 0.0610 - val_loss: 0.0081 - val_mae: 0.0702\n",
            "Epoch 15/100\n",
            "253/253 [==============================] - 1s 4ms/step - loss: 0.0068 - mae: 0.0613 - val_loss: 0.0077 - val_mae: 0.0671\n",
            "Epoch 16/100\n",
            "253/253 [==============================] - 1s 4ms/step - loss: 0.0066 - mae: 0.0604 - val_loss: 0.0077 - val_mae: 0.0685\n",
            "Epoch 17/100\n",
            "253/253 [==============================] - 1s 4ms/step - loss: 0.0065 - mae: 0.0601 - val_loss: 0.0073 - val_mae: 0.0661\n",
            "Epoch 18/100\n",
            "253/253 [==============================] - 1s 6ms/step - loss: 0.0066 - mae: 0.0602 - val_loss: 0.0074 - val_mae: 0.0656\n",
            "Epoch 19/100\n",
            "253/253 [==============================] - 2s 6ms/step - loss: 0.0064 - mae: 0.0601 - val_loss: 0.0072 - val_mae: 0.0656\n",
            "Epoch 20/100\n",
            "253/253 [==============================] - 1s 5ms/step - loss: 0.0063 - mae: 0.0588 - val_loss: 0.0071 - val_mae: 0.0647\n",
            "Epoch 21/100\n",
            "253/253 [==============================] - 1s 4ms/step - loss: 0.0063 - mae: 0.0591 - val_loss: 0.0070 - val_mae: 0.0647\n",
            "Epoch 22/100\n",
            "253/253 [==============================] - 1s 4ms/step - loss: 0.0064 - mae: 0.0593 - val_loss: 0.0075 - val_mae: 0.0674\n",
            "Epoch 23/100\n",
            "253/253 [==============================] - 1s 4ms/step - loss: 0.0062 - mae: 0.0589 - val_loss: 0.0060 - val_mae: 0.0579\n",
            "Epoch 24/100\n",
            "253/253 [==============================] - 1s 4ms/step - loss: 0.0063 - mae: 0.0593 - val_loss: 0.0070 - val_mae: 0.0648\n",
            "Epoch 25/100\n",
            "253/253 [==============================] - 1s 4ms/step - loss: 0.0061 - mae: 0.0584 - val_loss: 0.0075 - val_mae: 0.0674\n",
            "Epoch 26/100\n",
            "253/253 [==============================] - 1s 4ms/step - loss: 0.0063 - mae: 0.0586 - val_loss: 0.0070 - val_mae: 0.0641\n",
            "Epoch 27/100\n",
            "253/253 [==============================] - 1s 4ms/step - loss: 0.0061 - mae: 0.0586 - val_loss: 0.0061 - val_mae: 0.0580\n",
            "Epoch 28/100\n",
            "253/253 [==============================] - 1s 4ms/step - loss: 0.0061 - mae: 0.0581 - val_loss: 0.0069 - val_mae: 0.0637\n",
            "Epoch 29/100\n",
            "253/253 [==============================] - 1s 5ms/step - loss: 0.0061 - mae: 0.0581 - val_loss: 0.0072 - val_mae: 0.0653\n",
            "Epoch 30/100\n",
            "253/253 [==============================] - 2s 6ms/step - loss: 0.0059 - mae: 0.0572 - val_loss: 0.0066 - val_mae: 0.0621\n",
            "Epoch 31/100\n",
            "253/253 [==============================] - 1s 4ms/step - loss: 0.0059 - mae: 0.0573 - val_loss: 0.0063 - val_mae: 0.0598\n",
            "Epoch 32/100\n",
            "253/253 [==============================] - 1s 4ms/step - loss: 0.0061 - mae: 0.0578 - val_loss: 0.0064 - val_mae: 0.0610\n",
            "Epoch 33/100\n",
            "253/253 [==============================] - 1s 4ms/step - loss: 0.0060 - mae: 0.0575 - val_loss: 0.0070 - val_mae: 0.0647\n",
            "Epoch 34/100\n",
            "253/253 [==============================] - 1s 4ms/step - loss: 0.0059 - mae: 0.0572 - val_loss: 0.0069 - val_mae: 0.0644\n",
            "Epoch 35/100\n",
            "253/253 [==============================] - 1s 4ms/step - loss: 0.0060 - mae: 0.0571 - val_loss: 0.0065 - val_mae: 0.0618\n",
            "Epoch 36/100\n",
            "253/253 [==============================] - 1s 4ms/step - loss: 0.0059 - mae: 0.0573 - val_loss: 0.0063 - val_mae: 0.0606\n",
            "Epoch 37/100\n",
            "253/253 [==============================] - 1s 4ms/step - loss: 0.0060 - mae: 0.0573 - val_loss: 0.0061 - val_mae: 0.0593\n",
            "Epoch 38/100\n",
            "253/253 [==============================] - 1s 4ms/step - loss: 0.0059 - mae: 0.0570 - val_loss: 0.0072 - val_mae: 0.0655\n",
            "Epoch 39/100\n",
            "253/253 [==============================] - 1s 4ms/step - loss: 0.0059 - mae: 0.0568 - val_loss: 0.0063 - val_mae: 0.0606\n",
            "Epoch 40/100\n",
            "253/253 [==============================] - 1s 5ms/step - loss: 0.0059 - mae: 0.0568 - val_loss: 0.0068 - val_mae: 0.0627\n",
            "Epoch 41/100\n",
            "253/253 [==============================] - 1s 6ms/step - loss: 0.0060 - mae: 0.0571 - val_loss: 0.0074 - val_mae: 0.0664\n",
            "Epoch 42/100\n",
            "253/253 [==============================] - 1s 5ms/step - loss: 0.0058 - mae: 0.0564 - val_loss: 0.0069 - val_mae: 0.0640\n",
            "Epoch 43/100\n",
            "253/253 [==============================] - 1s 4ms/step - loss: 0.0058 - mae: 0.0566 - val_loss: 0.0066 - val_mae: 0.0624\n",
            "Epoch 44/100\n",
            "253/253 [==============================] - 1s 4ms/step - loss: 0.0059 - mae: 0.0566 - val_loss: 0.0068 - val_mae: 0.0634\n",
            "Epoch 45/100\n",
            "253/253 [==============================] - 1s 4ms/step - loss: 0.0057 - mae: 0.0564 - val_loss: 0.0062 - val_mae: 0.0594\n",
            "Epoch 46/100\n",
            "253/253 [==============================] - 1s 4ms/step - loss: 0.0058 - mae: 0.0564 - val_loss: 0.0065 - val_mae: 0.0618\n",
            "Epoch 47/100\n",
            "253/253 [==============================] - 1s 4ms/step - loss: 0.0059 - mae: 0.0568 - val_loss: 0.0064 - val_mae: 0.0612\n",
            "Epoch 48/100\n",
            "253/253 [==============================] - 1s 4ms/step - loss: 0.0057 - mae: 0.0562 - val_loss: 0.0068 - val_mae: 0.0631\n",
            "Epoch 49/100\n",
            "253/253 [==============================] - 1s 4ms/step - loss: 0.0058 - mae: 0.0566 - val_loss: 0.0063 - val_mae: 0.0591\n",
            "Epoch 50/100\n",
            "253/253 [==============================] - 1s 4ms/step - loss: 0.0057 - mae: 0.0560 - val_loss: 0.0065 - val_mae: 0.0609\n",
            "Epoch 51/100\n",
            "253/253 [==============================] - 1s 4ms/step - loss: 0.0058 - mae: 0.0564 - val_loss: 0.0064 - val_mae: 0.0601\n",
            "Epoch 52/100\n",
            "253/253 [==============================] - 1s 6ms/step - loss: 0.0057 - mae: 0.0561 - val_loss: 0.0064 - val_mae: 0.0594\n",
            "Epoch 53/100\n",
            "253/253 [==============================] - 1s 5ms/step - loss: 0.0058 - mae: 0.0566 - val_loss: 0.0064 - val_mae: 0.0607\n",
            "Epoch 54/100\n",
            "253/253 [==============================] - 1s 4ms/step - loss: 0.0057 - mae: 0.0562 - val_loss: 0.0063 - val_mae: 0.0608\n",
            "Epoch 55/100\n",
            "253/253 [==============================] - 1s 4ms/step - loss: 0.0056 - mae: 0.0555 - val_loss: 0.0073 - val_mae: 0.0647\n",
            "Epoch 56/100\n",
            "253/253 [==============================] - 1s 4ms/step - loss: 0.0058 - mae: 0.0562 - val_loss: 0.0066 - val_mae: 0.0613\n",
            "Epoch 57/100\n",
            "253/253 [==============================] - 1s 4ms/step - loss: 0.0057 - mae: 0.0560 - val_loss: 0.0063 - val_mae: 0.0601\n",
            "Epoch 58/100\n",
            "253/253 [==============================] - 1s 4ms/step - loss: 0.0057 - mae: 0.0559 - val_loss: 0.0063 - val_mae: 0.0605\n",
            "Epoch 59/100\n",
            "253/253 [==============================] - 1s 4ms/step - loss: 0.0057 - mae: 0.0562 - val_loss: 0.0065 - val_mae: 0.0616\n",
            "Epoch 60/100\n",
            "253/253 [==============================] - 1s 4ms/step - loss: 0.0057 - mae: 0.0560 - val_loss: 0.0064 - val_mae: 0.0606\n",
            "Epoch 61/100\n",
            "253/253 [==============================] - 1s 4ms/step - loss: 0.0057 - mae: 0.0559 - val_loss: 0.0066 - val_mae: 0.0612\n",
            "Epoch 62/100\n",
            "253/253 [==============================] - 1s 4ms/step - loss: 0.0058 - mae: 0.0563 - val_loss: 0.0065 - val_mae: 0.0621\n",
            "Epoch 63/100\n",
            "253/253 [==============================] - 1s 6ms/step - loss: 0.0057 - mae: 0.0558 - val_loss: 0.0064 - val_mae: 0.0608\n",
            "Epoch 64/100\n",
            "253/253 [==============================] - 1s 6ms/step - loss: 0.0057 - mae: 0.0559 - val_loss: 0.0067 - val_mae: 0.0625\n",
            "Epoch 65/100\n",
            "253/253 [==============================] - 1s 4ms/step - loss: 0.0058 - mae: 0.0560 - val_loss: 0.0066 - val_mae: 0.0614\n",
            "Epoch 66/100\n",
            "253/253 [==============================] - 1s 4ms/step - loss: 0.0056 - mae: 0.0557 - val_loss: 0.0063 - val_mae: 0.0605\n",
            "Epoch 67/100\n",
            "253/253 [==============================] - 1s 4ms/step - loss: 0.0056 - mae: 0.0555 - val_loss: 0.0066 - val_mae: 0.0620\n",
            "Epoch 68/100\n",
            "253/253 [==============================] - 1s 4ms/step - loss: 0.0056 - mae: 0.0557 - val_loss: 0.0069 - val_mae: 0.0644\n",
            "Epoch 69/100\n",
            "253/253 [==============================] - 1s 4ms/step - loss: 0.0057 - mae: 0.0557 - val_loss: 0.0064 - val_mae: 0.0614\n",
            "Epoch 70/100\n",
            "253/253 [==============================] - 1s 4ms/step - loss: 0.0057 - mae: 0.0560 - val_loss: 0.0067 - val_mae: 0.0621\n",
            "Epoch 71/100\n",
            "253/253 [==============================] - 1s 4ms/step - loss: 0.0056 - mae: 0.0556 - val_loss: 0.0067 - val_mae: 0.0633\n",
            "Epoch 72/100\n",
            "253/253 [==============================] - 1s 4ms/step - loss: 0.0056 - mae: 0.0558 - val_loss: 0.0071 - val_mae: 0.0648\n",
            "Epoch 73/100\n",
            "253/253 [==============================] - 1s 4ms/step - loss: 0.0056 - mae: 0.0555 - val_loss: 0.0063 - val_mae: 0.0598\n",
            "Epoch 74/100\n",
            "253/253 [==============================] - 1s 6ms/step - loss: 0.0057 - mae: 0.0560 - val_loss: 0.0067 - val_mae: 0.0622\n",
            "Epoch 75/100\n",
            "253/253 [==============================] - 1s 6ms/step - loss: 0.0056 - mae: 0.0556 - val_loss: 0.0061 - val_mae: 0.0594\n",
            "Epoch 76/100\n",
            "253/253 [==============================] - 1s 4ms/step - loss: 0.0056 - mae: 0.0556 - val_loss: 0.0068 - val_mae: 0.0625\n",
            "Epoch 77/100\n",
            "253/253 [==============================] - 1s 4ms/step - loss: 0.0056 - mae: 0.0551 - val_loss: 0.0071 - val_mae: 0.0638\n",
            "Epoch 78/100\n",
            "253/253 [==============================] - 1s 4ms/step - loss: 0.0057 - mae: 0.0560 - val_loss: 0.0072 - val_mae: 0.0660\n",
            "Epoch 79/100\n",
            "253/253 [==============================] - 1s 4ms/step - loss: 0.0056 - mae: 0.0553 - val_loss: 0.0067 - val_mae: 0.0624\n",
            "Epoch 80/100\n",
            "253/253 [==============================] - 1s 4ms/step - loss: 0.0055 - mae: 0.0555 - val_loss: 0.0065 - val_mae: 0.0613\n",
            "Epoch 81/100\n",
            "253/253 [==============================] - 1s 4ms/step - loss: 0.0055 - mae: 0.0554 - val_loss: 0.0071 - val_mae: 0.0634\n",
            "Epoch 82/100\n",
            "253/253 [==============================] - 1s 5ms/step - loss: 0.0057 - mae: 0.0559 - val_loss: 0.0067 - val_mae: 0.0622\n",
            "Epoch 83/100\n",
            "253/253 [==============================] - 1s 4ms/step - loss: 0.0055 - mae: 0.0554 - val_loss: 0.0060 - val_mae: 0.0585\n",
            "Epoch 84/100\n",
            "253/253 [==============================] - 1s 4ms/step - loss: 0.0056 - mae: 0.0554 - val_loss: 0.0064 - val_mae: 0.0602\n",
            "Epoch 85/100\n",
            "253/253 [==============================] - 2s 6ms/step - loss: 0.0056 - mae: 0.0555 - val_loss: 0.0068 - val_mae: 0.0635\n",
            "Epoch 86/100\n",
            "253/253 [==============================] - 1s 5ms/step - loss: 0.0056 - mae: 0.0555 - val_loss: 0.0063 - val_mae: 0.0599\n",
            "Epoch 87/100\n",
            "253/253 [==============================] - 1s 4ms/step - loss: 0.0055 - mae: 0.0549 - val_loss: 0.0062 - val_mae: 0.0593\n",
            "Epoch 88/100\n",
            "253/253 [==============================] - 1s 4ms/step - loss: 0.0055 - mae: 0.0552 - val_loss: 0.0064 - val_mae: 0.0616\n",
            "Epoch 89/100\n",
            "253/253 [==============================] - 1s 4ms/step - loss: 0.0056 - mae: 0.0551 - val_loss: 0.0063 - val_mae: 0.0600\n",
            "Epoch 90/100\n",
            "253/253 [==============================] - 1s 4ms/step - loss: 0.0056 - mae: 0.0553 - val_loss: 0.0065 - val_mae: 0.0614\n",
            "Epoch 91/100\n",
            "253/253 [==============================] - 2s 6ms/step - loss: 0.0056 - mae: 0.0553 - val_loss: 0.0065 - val_mae: 0.0606\n",
            "Epoch 92/100\n",
            "253/253 [==============================] - 1s 5ms/step - loss: 0.0056 - mae: 0.0553 - val_loss: 0.0066 - val_mae: 0.0618\n",
            "Epoch 93/100\n",
            "253/253 [==============================] - 1s 4ms/step - loss: 0.0056 - mae: 0.0553 - val_loss: 0.0071 - val_mae: 0.0650\n",
            "Epoch 94/100\n",
            "253/253 [==============================] - 1s 4ms/step - loss: 0.0056 - mae: 0.0553 - val_loss: 0.0068 - val_mae: 0.0635\n",
            "Epoch 95/100\n",
            "253/253 [==============================] - 1s 6ms/step - loss: 0.0055 - mae: 0.0550 - val_loss: 0.0072 - val_mae: 0.0648\n",
            "Epoch 96/100\n",
            "253/253 [==============================] - 2s 7ms/step - loss: 0.0055 - mae: 0.0551 - val_loss: 0.0064 - val_mae: 0.0604\n",
            "Epoch 97/100\n",
            "253/253 [==============================] - 1s 4ms/step - loss: 0.0055 - mae: 0.0550 - val_loss: 0.0065 - val_mae: 0.0611\n",
            "Epoch 98/100\n",
            "253/253 [==============================] - 1s 4ms/step - loss: 0.0056 - mae: 0.0555 - val_loss: 0.0064 - val_mae: 0.0614\n",
            "Epoch 99/100\n",
            "253/253 [==============================] - 1s 4ms/step - loss: 0.0055 - mae: 0.0551 - val_loss: 0.0073 - val_mae: 0.0655\n",
            "Epoch 100/100\n",
            "253/253 [==============================] - 1s 4ms/step - loss: 0.0055 - mae: 0.0550 - val_loss: 0.0064 - val_mae: 0.0604\n"
          ]
        }
      ]
    },
    {
      "cell_type": "code",
      "source": [
        "# 讀取test.csv\n",
        "test_data = pd.read_csv(\"test.csv\")\n",
        "\n",
        "# 處理缺失值: 使用中位數填充\n",
        "test_data.fillna(data.mean(), inplace=True)\n",
        "\n",
        "# 將入職日期轉換為距今的天數\n",
        "test_data['Days Since Joining'] = (pd.Timestamp.now() - pd.to_datetime(test_data['Date of Joining'])).dt.days\n",
        "test_data.drop('Date of Joining', axis=1, inplace=True)\n",
        "\n",
        "# 使用之前的LabelEncoder對類別變數進行編碼\n",
        "for col in categorical_columns:\n",
        "    test_data[col] = label_encoders[col].transform(test_data[col])\n",
        "\n",
        "# 移除Employee ID並標準化特徵\n",
        "X_test = test_data.drop('Employee ID', axis=1)\n",
        "X_test = scaler.transform(X_test)\n",
        "\n",
        "X_test[:5]"
      ],
      "metadata": {
        "colab": {
          "base_uri": "https://localhost:8080/"
        },
        "id": "a4hvLUDUFM8l",
        "outputId": "87223c3f-8b3b-4653-f629-42e9dfb4d8be"
      },
      "execution_count": 10,
      "outputs": [
        {
          "output_type": "execute_result",
          "data": {
            "text/plain": [
              "array([[ 1.05153657,  0.72701061,  0.92904986, -1.92446229, -1.77552637,\n",
              "        -3.16889241, -1.27023567],\n",
              "       [ 1.05153657, -1.37549575, -1.0763685 ,  0.71631191,  1.77012275,\n",
              "         1.19241958,  1.05709296],\n",
              "       [ 1.05153657,  0.72701061, -1.0763685 ,  1.59656997,  2.27664405,\n",
              "         1.30283255,  0.83949719],\n",
              "       [ 1.05153657, -1.37549575, -1.0763685 , -1.04420423, -0.76248376,\n",
              "        -0.022123  , -0.87288688],\n",
              "       [-0.95098927,  0.72701061, -1.0763685 ,  0.71631191,  0.25055884,\n",
              "        -0.00484002,  1.6814982 ]])"
            ]
          },
          "metadata": {},
          "execution_count": 10
        }
      ]
    },
    {
      "cell_type": "code",
      "source": [
        "predictions = model.predict(X_test)"
      ],
      "metadata": {
        "colab": {
          "base_uri": "https://localhost:8080/"
        },
        "id": "ju1F76p8FaVX",
        "outputId": "1c171e79-bec8-4323-9822-d8a5318d4ab9"
      },
      "execution_count": 11,
      "outputs": [
        {
          "output_type": "stream",
          "name": "stdout",
          "text": [
            "62/62 [==============================] - 0s 1ms/step\n"
          ]
        }
      ]
    },
    {
      "cell_type": "code",
      "source": [
        "df_ans = pd.DataFrame(predictions.astype(float), columns=['Burn Rate'])\n",
        "df_ans.to_csv('mySubmission.csv', index_label='Employee ID')"
      ],
      "metadata": {
        "id": "UpINA4U8FkOn"
      },
      "execution_count": 12,
      "outputs": []
    }
  ]
}